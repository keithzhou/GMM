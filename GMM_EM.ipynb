{
 "metadata": {
  "name": ""
 },
 "nbformat": 3,
 "nbformat_minor": 0,
 "worksheets": [
  {
   "cells": [
    {
     "cell_type": "code",
     "collapsed": false,
     "input": [
      "# data \n",
      "import numpy as np\n",
      "import matplotlib.mlab as mlab\n",
      "import matplotlib.pyplot as plt\n",
      "%matplotlib inline\n",
      "\n",
      "# dataset is generated with 3 gaussians. \n",
      "x1 = 3.0 * np.random.randn(1000) - 2.0\n",
      "x2 = 0.5 * np.random.randn(10000) + 3.0\n",
      "x3 = 1.0 * np.random.randn(10000) + 7.0\n",
      "x = np.hstack([x1,x2,x3])\n",
      "\n",
      "# visualization\n",
      "histogram = plt.hist(x, 100, label=\"histogram\")\n",
      "plt.title(\"histogram\")"
     ],
     "language": "python",
     "metadata": {},
     "outputs": [
      {
       "metadata": {},
       "output_type": "pyout",
       "prompt_number": 1,
       "text": [
        "<matplotlib.text.Text at 0x10b799290>"
       ]
      },
      {
       "metadata": {},
       "output_type": "display_data",
       "png": "[encoded data removed]",
       "text": [
        "<matplotlib.figure.Figure at 0x10b603550>"
       ]
      }
     ],
     "prompt_number": 1
    },
    {
     "cell_type": "code",
     "collapsed": false,
     "input": [
      "# model and initialization\n",
      "M = 3 # number of mixtures\n",
      "\n",
      "# model parameters\n",
      "mu = np.random.random(M)\n",
      "sigma = np.ones(M) * 1 \n",
      "alpha = np.ones(M) * 1.0 / M\n",
      "\n",
      "# hidden variables\n",
      "w_mt = np.zeros((M,len(x)))\n",
      "\n",
      "# EM\n",
      "i = 0\n",
      "nIterations = 1001\n",
      "for i in range(nIterations):\n",
      "    if i % 100 == 0:\n",
      "        print \"i:\", i, \"alpha:\", alpha, \"mu:\", mu, \"sigma:\", sigma\n",
      "    \n",
      "    # E-step\n",
      "    for m in range(M):\n",
      "        w_mt[m] = alpha[m] * mlab.normpdf(x,mu[m],sigma[m])\n",
      "    C = np.sum(w_mt, axis=0)\n",
      "    w_mt = w_mt / C\n",
      "    \n",
      "    # M-step\n",
      "    alpha = np.sum(w_mt,axis=1) / len(x)\n",
      "    mu = np.sum(w_mt*x,axis=1)/np.sum(w_mt,axis=1)\n",
      "    sigma = np.sqrt(np.sum(w_mt*pow(x - mu[:,np.newaxis],2),axis=1) / np.sum(w_mt,axis=1))\n",
      "    \n",
      "    sigma[sigma < 0.1] = 0.1 # avoid numerical problems\n",
      "    "
     ],
     "language": "python",
     "metadata": {},
     "outputs": [
      {
       "output_type": "stream",
       "stream": "stdout",
       "text": [
        "i: 0 alpha: [ 0.33333333  0.33333333  0.33333333] mu: [ 0.59193851  0.13543544  0.65505494] sigma: [ 1.  1.  1.]\n",
        "i:"
       ]
      },
      {
       "output_type": "stream",
       "stream": "stdout",
       "text": [
        " 100 alpha: [ 0.40819615  0.02846385  0.56334   ] mu: [ 3.91333936 -4.06548184  5.64098023] sigma: [ 1.90447199  2.18905872  2.17120664]\n",
        "i:"
       ]
      },
      {
       "output_type": "stream",
       "stream": "stdout",
       "text": [
        " 200 alpha: [ 0.47681952  0.04864459  0.47453589] mu: [ 3.00210595 -2.05365417  7.01299323] sigma: [ 0.50858924  3.17676004  0.98951576]\n",
        "i:"
       ]
      },
      {
       "output_type": "stream",
       "stream": "stdout",
       "text": [
        " 300 alpha: [ 0.47681952  0.04864459  0.47453589] mu: [ 3.00210595 -2.05365408  7.01299323] sigma: [ 0.50858924  3.1767601   0.98951576]\n",
        "i:"
       ]
      },
      {
       "output_type": "stream",
       "stream": "stdout",
       "text": [
        " 400 alpha: [ 0.47681952  0.04864459  0.47453589] mu: [ 3.00210595 -2.05365408  7.01299323] sigma: [ 0.50858924  3.1767601   0.98951576]\n",
        "i:"
       ]
      },
      {
       "output_type": "stream",
       "stream": "stdout",
       "text": [
        " 500 alpha: [ 0.47681952  0.04864459  0.47453589] mu: [ 3.00210595 -2.05365408  7.01299323] sigma: [ 0.50858924  3.1767601   0.98951576]\n",
        "i:"
       ]
      },
      {
       "output_type": "stream",
       "stream": "stdout",
       "text": [
        " 600 alpha: [ 0.47681952  0.04864459  0.47453589] mu: [ 3.00210595 -2.05365408  7.01299323] sigma: [ 0.50858924  3.1767601   0.98951576]\n",
        "i:"
       ]
      },
      {
       "output_type": "stream",
       "stream": "stdout",
       "text": [
        " 700 alpha: [ 0.47681952  0.04864459  0.47453589] mu: [ 3.00210595 -2.05365408  7.01299323] sigma: [ 0.50858924  3.1767601   0.98951576]\n",
        "i:"
       ]
      },
      {
       "output_type": "stream",
       "stream": "stdout",
       "text": [
        " 800 alpha: [ 0.47681952  0.04864459  0.47453589] mu: [ 3.00210595 -2.05365408  7.01299323] sigma: [ 0.50858924  3.1767601   0.98951576]\n",
        "i:"
       ]
      },
      {
       "output_type": "stream",
       "stream": "stdout",
       "text": [
        " 900 alpha: [ 0.47681952  0.04864459  0.47453589] mu: [ 3.00210595 -2.05365408  7.01299323] sigma: [ 0.50858924  3.1767601   0.98951576]\n",
        "i:"
       ]
      },
      {
       "output_type": "stream",
       "stream": "stdout",
       "text": [
        " 1000 alpha: [ 0.47681952  0.04864459  0.47453589] mu: [ 3.00210595 -2.05365408  7.01299323] sigma: [ 0.50858924  3.1767601   0.98951576]\n"
       ]
      }
     ],
     "prompt_number": 2
    },
    {
     "cell_type": "code",
     "collapsed": false,
     "input": [
      "# compare with GMM model from sklearn\n",
      "from sklearn import mixture\n",
      "g = mixture.GMM(n_components=3)\n",
      "g.fit(x[:,np.newaxis]) \n",
      "print \"alpha:\", g.weights_\n",
      "print \"mu:\", g.means_\n",
      "print \"std:\", g.covars_"
     ],
     "language": "python",
     "metadata": {},
     "outputs": [
      {
       "output_type": "stream",
       "stream": "stdout",
       "text": [
        "alpha: [ 0.47713205  0.47459588  0.04827208]\n",
        "mu: [[ 3.00198549]\n",
        " [ 7.01292081]\n",
        " [-2.09575009]]\n",
        "std: [[ 0.26024885]\n",
        " [ 0.9801767 ]\n",
        " [ 9.91719772]]\n"
       ]
      }
     ],
     "prompt_number": 5
    }
   ],
   "metadata": {}
  }
 ]
}